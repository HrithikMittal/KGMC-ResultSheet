{
 "cells": [
  {
   "cell_type": "code",
   "execution_count": null,
   "metadata": {},
   "outputs": [],
   "source": [
    " selenium import webdriver\n",
    "import openpyxl\n",
    "import time"
   ]
  },
  {
   "cell_type": "code",
   "execution_count": null,
   "metadata": {},
   "outputs": [],
   "source": [
    "\n",
    "wb = openpyxl.Workbook()\n",
    "sheet = wb.active\n",
    "c=['Name','Pathology','Microbiology','Pharmacology','Forensic Medicine','Result']\n",
    "row=1\n",
    "for i in range(1,6):\n",
    "    c1 = sheet.cell(row = row, column = i)\n",
    "    c1.value = c[i-1]\n"
   ]
  },
  {
   "cell_type": "code",
   "execution_count": null,
   "metadata": {},
   "outputs": [],
   "source": [
    "\n",
    "for i in range(2001012001,2001012245):\n",
    "    row=row+1\n",
    "    rollnumber=str(i)\n",
    "    options = webdriver.ChromeOptions()\n",
    "    options.add_argument('--ignore-certificate-errors')\n",
    "    options.add_argument(\"--test-type\")\n",
    "    options.binary_location = \"/usr/bin/chromium\"\n",
    "        #driver = webdriver.Chrome()\n",
    "    driver = webdriver.Chrome('/Users/Adhikansh/Desktop/chromedriver')\n",
    "    driver.get('https://www.kgmu.org/kgmu_result/get_results.php?course_id=1&exam_id=2&res_id=1111')\n",
    "\n",
    "    text_area = driver.find_element_by_id('roll_no')\n",
    "    text_area.send_keys(rollnumber)\n",
    "\n",
    "    all_iframes = driver.find_elements_by_tag_name(\"iframe\")\n",
    "    if len(all_iframes) > 0:\n",
    "        driver.execute_script(\"\"\"var elems = document.getElementsByTagName(\"iframe\"); \n",
    "            for(var i = 0, max = elems.length; i < max; i++)\n",
    "                 {\n",
    "                     elems[i].hidden=true;\n",
    "                 }\"\"\")\n",
    "    #driver.execute_script(\"\"\"var elem = document.getElementById(\"_vdo_ads_player_ai_\").style.display = \"none\";\"\"\")\n",
    "    driver.find_element_by_xpath(\"//input[@type='submit' and @value='Get Result']\").click()\n",
    "\n",
    "    all_iframes = driver.find_elements_by_tag_name(\"iframe\")\n",
    "\n",
    "    if len(all_iframes) > 0:\n",
    "        driver.execute_script(\"\"\"var elems = document.getElementsByTagName(\"iframe\"); \n",
    "            for(var i = 0, max = elems.length; i < max; i++)\n",
    "                 {\n",
    "                     elems[i].hidden=true;\n",
    "                 }\"\"\")\n",
    "    #driver.execute_script(\"\"\"var elem = document.getElementById(\"_vdo_ads_player_ai_\").style.display = \"none\";\"\"\")\n",
    "\n",
    "    name=driver.find_element_by_xpath(\"/html/body/div[2]/div/div/div/div/div[2]/table/tbody/tr[3]/td/form/table/tbody/tr[6]/td/div/table[7]/tbody/tr/td[3]/font\").text\n",
    "    aggregate1=driver.find_element_by_xpath(\"/html/body/div[2]/div/div/div/div/div[2]/table/tbody/tr[3]/td/form/table/tbody/tr[6]/td/div/table[17]/tbody/tr/td[3]/b/font\").text\n",
    "    aggregate2=driver.find_element_by_xpath(\"/html/body/div[2]/div/div/div/div/div[2]/table/tbody/tr[3]/td/form/table/tbody/tr[6]/td/div/table[17]/tbody/tr/td[5]/b/font\").text\n",
    "    aggregate3=driver.find_element_by_xpath(\"/html/body/div[2]/div/div/div/div/div[2]/table/tbody/tr[3]/td/form/table/tbody/tr[6]/td/div/table[17]/tbody/tr/td[7]/b/font\").text\n",
    "    aggregate4=driver.find_element_by_xpath(\"/html/body/div[2]/div/div/div/div/div[2]/table/tbody/tr[3]/td/form/table/tbody/tr[6]/td/div/table[17]/tbody/tr/td[9]/b/font\").text\n",
    "    \n",
    "    driver.quit()\n",
    "    if aggregate1 != \"NA\" and aggregate2 != \"NA\" and aggregate3 != \"NA\" and aggregate4 != \"NA\": \n",
    "        result=float(aggregate1) + float(aggregate2) + float(aggregate3)+float(aggregate4)\n",
    "    else: \n",
    "        result = \"NA\"\n",
    "\n",
    "    print(rollnumber+' added to excel file ')\n",
    "\n",
    "    c=[name,aggregate1,aggregate2,aggregate3,aggregate4,result]\n",
    "    for i in range(1,7):\n",
    "        c1 = sheet.cell(row = row, column = i)\n",
    "        c1.value = c[i-1]\n",
    "\n",
    "    #driver.find_element_by_id('linkquery').click()\n",
    "\n",
    "\n",
    "wb.save(\"results.xlsx\")\n",
    "\n"
   ]
  }
 ],
 "metadata": {
  "kernelspec": {
   "display_name": "Python 3",
   "language": "python",
   "name": "python3"
  },
  "language_info": {
   "codemirror_mode": {
    "name": "ipython",
    "version": 3
   },
   "file_extension": ".py",
   "mimetype": "text/x-python",
   "name": "python",
   "nbconvert_exporter": "python",
   "pygments_lexer": "ipython3",
   "version": "3.7.1"
  }
 },
 "nbformat": 4,
 "nbformat_minor": 2
}
